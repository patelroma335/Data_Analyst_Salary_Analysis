{
 "cells": [
  {
   "cell_type": "code",
   "execution_count": 1,
   "metadata": {},
   "outputs": [],
   "source": [
    "import pandas as pd\n",
    "%matplotlib inline\n",
    "import matplotlib.pyplot as plt\n",
    "import numpy as np\n",
    "\n",
    "# import seaborn as sns"
   ]
  },
  {
   "cell_type": "code",
   "execution_count": 2,
   "metadata": {},
   "outputs": [],
   "source": [
    "indeed_CA = pd.read_csv(\"indeed_CA.csv\")\n",
    "df_CA = pd.read_csv(\"df_CA.csv\")"
   ]
  },
  {
   "cell_type": "code",
   "execution_count": 3,
   "metadata": {},
   "outputs": [
    {
     "data": {
      "text/html": [
       "<div>\n",
       "<style scoped>\n",
       "    .dataframe tbody tr th:only-of-type {\n",
       "        vertical-align: middle;\n",
       "    }\n",
       "\n",
       "    .dataframe tbody tr th {\n",
       "        vertical-align: top;\n",
       "    }\n",
       "\n",
       "    .dataframe thead th {\n",
       "        text-align: right;\n",
       "    }\n",
       "</style>\n",
       "<table border=\"1\" class=\"dataframe\">\n",
       "  <thead>\n",
       "    <tr style=\"text-align: right;\">\n",
       "      <th></th>\n",
       "      <th>Unnamed: 0</th>\n",
       "      <th>Job Title</th>\n",
       "      <th>Job Description</th>\n",
       "      <th>Rating</th>\n",
       "      <th>Company Name</th>\n",
       "      <th>Location</th>\n",
       "      <th>Headquarters</th>\n",
       "      <th>Size</th>\n",
       "      <th>Founded</th>\n",
       "      <th>Type of ownership</th>\n",
       "      <th>Industry</th>\n",
       "      <th>Sector</th>\n",
       "      <th>Competitors</th>\n",
       "      <th>Easy Apply</th>\n",
       "      <th>City</th>\n",
       "      <th>State</th>\n",
       "      <th>SalaryEstimate_low</th>\n",
       "      <th>SalaryEstimate_high</th>\n",
       "      <th>Revenue_low</th>\n",
       "      <th>Revenue_high</th>\n",
       "    </tr>\n",
       "  </thead>\n",
       "  <tbody>\n",
       "    <tr>\n",
       "      <th>0</th>\n",
       "      <td>454</td>\n",
       "      <td>Data Analyst</td>\n",
       "      <td>Ref ID: 00310-0011482030Classification: Sales ...</td>\n",
       "      <td>3.5</td>\n",
       "      <td>Robert Half\\n3.5</td>\n",
       "      <td>Reedley, CA</td>\n",
       "      <td>Menlo Park, CA</td>\n",
       "      <td>10000+ employees</td>\n",
       "      <td>1948</td>\n",
       "      <td>Company - Public</td>\n",
       "      <td>Staffing &amp; Outsourcing</td>\n",
       "      <td>Business Services</td>\n",
       "      <td>Adecco, Manpower</td>\n",
       "      <td>-1</td>\n",
       "      <td>Reedley</td>\n",
       "      <td>CA</td>\n",
       "      <td>47000</td>\n",
       "      <td>81000</td>\n",
       "      <td>2000000.0</td>\n",
       "      <td>5000000.0</td>\n",
       "    </tr>\n",
       "    <tr>\n",
       "      <th>1</th>\n",
       "      <td>455</td>\n",
       "      <td>Data Analyst, District Office - Accountability...</td>\n",
       "      <td>About the Employer\\n\\n\\nNestled close to the m...</td>\n",
       "      <td>3.7</td>\n",
       "      <td>TCOE\\n3.7</td>\n",
       "      <td>Visalia, CA</td>\n",
       "      <td>Springville, CA</td>\n",
       "      <td>1 to 50 employees</td>\n",
       "      <td>-1</td>\n",
       "      <td>School / School District</td>\n",
       "      <td>Preschool &amp; Child Care</td>\n",
       "      <td>Education</td>\n",
       "      <td>-1</td>\n",
       "      <td>-1</td>\n",
       "      <td>Visalia</td>\n",
       "      <td>CA</td>\n",
       "      <td>47000</td>\n",
       "      <td>81000</td>\n",
       "      <td>1000000.0</td>\n",
       "      <td>5000000.0</td>\n",
       "    </tr>\n",
       "    <tr>\n",
       "      <th>2</th>\n",
       "      <td>456</td>\n",
       "      <td>Data Analyst (Kings County)</td>\n",
       "      <td>The purpose of the Data Analyst in the Case In...</td>\n",
       "      <td>3.3</td>\n",
       "      <td>Public Health Foundation Enterprises, In\\n3.3</td>\n",
       "      <td>Hanford, CA</td>\n",
       "      <td>City of Industry, CA</td>\n",
       "      <td>1001 to 5000 employees</td>\n",
       "      <td>1968</td>\n",
       "      <td>Nonprofit Organization</td>\n",
       "      <td>Social Assistance</td>\n",
       "      <td>Non-Profit</td>\n",
       "      <td>-1</td>\n",
       "      <td>-1</td>\n",
       "      <td>Hanford</td>\n",
       "      <td>CA</td>\n",
       "      <td>47000</td>\n",
       "      <td>81000</td>\n",
       "      <td>50000000.0</td>\n",
       "      <td>100000000.0</td>\n",
       "    </tr>\n",
       "  </tbody>\n",
       "</table>\n",
       "</div>"
      ],
      "text/plain": [
       "   Unnamed: 0                                          Job Title  \\\n",
       "0         454                                       Data Analyst   \n",
       "1         455  Data Analyst, District Office - Accountability...   \n",
       "2         456                        Data Analyst (Kings County)   \n",
       "\n",
       "                                     Job Description  Rating  \\\n",
       "0  Ref ID: 00310-0011482030Classification: Sales ...     3.5   \n",
       "1  About the Employer\\n\\n\\nNestled close to the m...     3.7   \n",
       "2  The purpose of the Data Analyst in the Case In...     3.3   \n",
       "\n",
       "                                    Company Name     Location  \\\n",
       "0                               Robert Half\\n3.5  Reedley, CA   \n",
       "1                                      TCOE\\n3.7  Visalia, CA   \n",
       "2  Public Health Foundation Enterprises, In\\n3.3  Hanford, CA   \n",
       "\n",
       "           Headquarters                    Size  Founded  \\\n",
       "0        Menlo Park, CA        10000+ employees     1948   \n",
       "1       Springville, CA       1 to 50 employees       -1   \n",
       "2  City of Industry, CA  1001 to 5000 employees     1968   \n",
       "\n",
       "          Type of ownership                Industry             Sector  \\\n",
       "0          Company - Public  Staffing & Outsourcing  Business Services   \n",
       "1  School / School District  Preschool & Child Care          Education   \n",
       "2    Nonprofit Organization       Social Assistance         Non-Profit   \n",
       "\n",
       "        Competitors Easy Apply     City State  SalaryEstimate_low  \\\n",
       "0  Adecco, Manpower         -1  Reedley    CA               47000   \n",
       "1                -1         -1  Visalia    CA               47000   \n",
       "2                -1         -1  Hanford    CA               47000   \n",
       "\n",
       "   SalaryEstimate_high  Revenue_low  Revenue_high  \n",
       "0                81000    2000000.0     5000000.0  \n",
       "1                81000    1000000.0     5000000.0  \n",
       "2                81000   50000000.0   100000000.0  "
      ]
     },
     "execution_count": 3,
     "metadata": {},
     "output_type": "execute_result"
    }
   ],
   "source": [
    "df_CA.head(3)"
   ]
  },
  {
   "cell_type": "code",
   "execution_count": 4,
   "metadata": {},
   "outputs": [
    {
     "data": {
      "text/plain": [
       "San Francisco, CA    119\n",
       "Los Angeles, CA       80\n",
       "San Diego, CA         62\n",
       "San Jose, CA          38\n",
       "Santa Clara, CA       22\n",
       "                    ... \n",
       "Signal Hill, CA        1\n",
       "Torrance, CA           1\n",
       "Emeryville, CA         1\n",
       "Campbell, CA           1\n",
       "Marin City, CA         1\n",
       "Name: Location, Length: 74, dtype: int64"
      ]
     },
     "execution_count": 4,
     "metadata": {},
     "output_type": "execute_result"
    }
   ],
   "source": [
    "df_CA['Location'].value_counts()"
   ]
  },
  {
   "cell_type": "code",
   "execution_count": 5,
   "metadata": {},
   "outputs": [
    {
     "data": {
      "text/plain": [
       "-1      599\n",
       "True     27\n",
       "Name: Easy Apply, dtype: int64"
      ]
     },
     "execution_count": 5,
     "metadata": {},
     "output_type": "execute_result"
    }
   ],
   "source": [
    "df_CA['Easy Apply'].value_counts()"
   ]
  },
  {
   "cell_type": "code",
   "execution_count": 6,
   "metadata": {},
   "outputs": [],
   "source": [
    "# Easy apply option is not available for most of the companies. It seems like it is an unnecessary column."
   ]
  },
  {
   "cell_type": "code",
   "execution_count": 7,
   "metadata": {},
   "outputs": [
    {
     "data": {
      "text/plain": [
       "-1                                               462\n",
       "Google, Microsoft, Samsung Electronics            10\n",
       "Acumen                                             5\n",
       "Experis                                            5\n",
       "Adecco, Manpower                                   5\n",
       "                                                ... \n",
       "CyberCoders, Kforce, ASGN Incorporated             1\n",
       "PRA Group                                          1\n",
       "Palo Alto Networks, FireEye, Juniper Networks      1\n",
       "Kforce, Insight Global, Volt Consulting Group      1\n",
       "Paxata, Datameer, Informatica                      1\n",
       "Name: Competitors, Length: 103, dtype: int64"
      ]
     },
     "execution_count": 7,
     "metadata": {},
     "output_type": "execute_result"
    }
   ],
   "source": [
    "df_CA['Competitors'].value_counts()"
   ]
  },
  {
   "cell_type": "code",
   "execution_count": 8,
   "metadata": {},
   "outputs": [
    {
     "data": {
      "text/plain": [
       "Index(['Unnamed: 0', 'Job Title', 'Job Description', 'Rating', 'Company Name',\n",
       "       'Location', 'Headquarters', 'Size', 'Founded', 'Type of ownership',\n",
       "       'Industry', 'Sector', 'Competitors', 'Easy Apply', 'City', 'State',\n",
       "       'SalaryEstimate_low', 'SalaryEstimate_high', 'Revenue_low',\n",
       "       'Revenue_high'],\n",
       "      dtype='object')"
      ]
     },
     "execution_count": 8,
     "metadata": {},
     "output_type": "execute_result"
    }
   ],
   "source": [
    "df_CA.columns"
   ]
  },
  {
   "cell_type": "code",
   "execution_count": 9,
   "metadata": {},
   "outputs": [],
   "source": [
    "for col in df_CA:\n",
    "    df_CA[col]= df_CA[col].replace('-1', np.nan)\n",
    "    df_CA[col]= df_CA[col].replace(-1, np.nan)"
   ]
  },
  {
   "cell_type": "code",
   "execution_count": 10,
   "metadata": {},
   "outputs": [],
   "source": [
    "df_CA['SalaryEstimate_ave']=(df_CA['SalaryEstimate_low']+df_CA['SalaryEstimate_high'])/2"
   ]
  },
  {
   "cell_type": "code",
   "execution_count": 11,
   "metadata": {},
   "outputs": [],
   "source": [
    "df_CA['Revenue_ave']=(df_CA['Revenue_low']+df_CA['Revenue_high'])/2"
   ]
  },
  {
   "cell_type": "code",
   "execution_count": 12,
   "metadata": {},
   "outputs": [],
   "source": [
    "df_CA['Comp_Age'] = 2020 - df_CA['Founded']"
   ]
  },
  {
   "cell_type": "code",
   "execution_count": 13,
   "metadata": {},
   "outputs": [
    {
     "data": {
      "text/plain": [
       "array([ 72.,  nan,  52.,  24.,  10.,   6.,   7.,  12.,   2.,   3.,  23.,\n",
       "         4.,  20.,   9., 118.,   8.,  13.,  76., 132.,  18.,  49., 140.,\n",
       "        47.,  97.,  38.,  89.,  17.,  33.,  82.,  42.,  30.,  19.,   5.,\n",
       "        31.,  11.,  22.,   1., 101.,  41.,  75.,  37.,  66.,  15.,  54.,\n",
       "        40.,  14., 109.,  59.,  26.,  81.,  44.,  25.,  85., 148.,  43.,\n",
       "        94.,  56.,  29., 165.,  21.,  61.,  58.,  67.,  60., 152.,  16.,\n",
       "        68., 123.,  74.,  36.,  35.,  34.,  27.,  32.,  28.,  48., 129.,\n",
       "       213.,  63., 114.,  96., 113., 156.,  39., 146., 338.,  73., 168.])"
      ]
     },
     "execution_count": 13,
     "metadata": {},
     "output_type": "execute_result"
    }
   ],
   "source": [
    "df_CA[\"Comp_Age\"].unique()"
   ]
  },
  {
   "cell_type": "code",
   "execution_count": 32,
   "metadata": {},
   "outputs": [
    {
     "data": {
      "image/png": "[encoded data removed]",
      "text/plain": [
       "<Figure size 432x288 with 1 Axes>"
      ]
     },
     "metadata": {
      "needs_background": "light"
     },
     "output_type": "display_data"
    }
   ],
   "source": [
    "# Salary Histogram\n",
    "\n",
    "df_CA['SalaryEstimate_low'].hist(density=1, label = \"Min_Salary\", edgecolor='k', alpha=0.65)\n",
    "df_CA['SalaryEstimate_high'].hist(density=1, label = \"Max_Salary\", edgecolor='k', alpha=0.65)\n",
    "\n",
    "plt.xlabel(\"Salary ($)\")\n",
    "plt.legend({'Min_Salary':df_CA['SalaryEstimate_low'],'Max_Salary':df_CA['SalaryEstimate_high']})\n",
    "plt.title(\"Distribution of Min & Max Salary\",fontsize=19)\n",
    "\n",
    "plt.axvline(df_CA['SalaryEstimate_low'].mean(), color='k', linestyle='dashed', linewidth=1)\n",
    "plt.axvline(df_CA['SalaryEstimate_high'].mean(), color='k', linestyle='dashed', linewidth=1)\n",
    "\n",
    "plt.tight_layout()\n",
    "plt.savefig(\"salaryhist.png\")\n",
    "plt.show()\n"
   ]
  },
  {
   "cell_type": "code",
   "execution_count": 31,
   "metadata": {},
   "outputs": [
    {
     "data": {
      "image/png": "[encoded data removed]",
      "text/plain": [
       "<Figure size 432x288 with 1 Axes>"
      ]
     },
     "metadata": {
      "needs_background": "light"
     },
     "output_type": "display_data"
    }
   ],
   "source": [
    "\n",
    "plt.boxplot([df_CA['SalaryEstimate_low'],df_CA['SalaryEstimate_ave'],df_CA['SalaryEstimate_high']], labels=['Min. Salary', 'Ave. Salary', 'Max. Salary'])\n",
    "\n",
    "plt.title('Salary Distribution')\n",
    "plt.savefig(\"salarybox.png\")\n",
    "plt.show()\n"
   ]
  },
  {
   "cell_type": "code",
   "execution_count": null,
   "metadata": {},
   "outputs": [],
   "source": []
  },
  {
   "cell_type": "code",
   "execution_count": 30,
   "metadata": {},
   "outputs": [
    {
     "data": {
      "image/png": "[encoded data removed]",
      "text/plain": [
       "<Figure size 432x288 with 1 Axes>"
      ]
     },
     "metadata": {
      "needs_background": "light"
     },
     "output_type": "display_data"
    }
   ],
   "source": [
    "# Company Ratings Histogram\n",
    "\n",
    "df_CA['Rating'].hist(density=1, label = \"Min_Salary\",color='c', edgecolor='k', alpha=0.55)\n",
    "\n",
    "plt.xlabel(\"Company Ratings)\")\n",
    "plt.title(\"Distribution of Company Ratings\",fontsize=19)\n",
    "\n",
    "plt.axvline(df_CA['Rating'].mean(), color='k', linestyle='dashed', linewidth=1)\n",
    "\n",
    "\n",
    "plt.tight_layout()\n",
    "plt.savefig(\"rating.png\")\n",
    "plt.show()\n"
   ]
  },
  {
   "cell_type": "code",
   "execution_count": 29,
   "metadata": {},
   "outputs": [
    {
     "data": {
      "image/png": "[encoded data removed]",
      "text/plain": [
       "<Figure size 432x288 with 1 Axes>"
      ]
     },
     "metadata": {
      "needs_background": "light"
     },
     "output_type": "display_data"
    }
   ],
   "source": [
    "# Company Age Histogram\n",
    "\n",
    "df_CA['Comp_Age'].hist(density=1, label = \"Min_Salary\",color='y', edgecolor='k', alpha=0.55)\n",
    "\n",
    "plt.xlabel(\"Company Age)\")\n",
    "plt.title(\"Distribution of Company Age\",fontsize=19)\n",
    "\n",
    "plt.axvline(df_CA['Rating'].mean(), color='k', linestyle='dashed', linewidth=1)\n",
    "\n",
    "\n",
    "plt.tight_layout()\n",
    "plt.savefig(\"age.png\")\n",
    "plt.show()\n",
    "\n",
    "\n"
   ]
  },
  {
   "cell_type": "code",
   "execution_count": 23,
   "metadata": {},
   "outputs": [],
   "source": [
    "# Job Locations vs Hiring\n",
    "\n",
    "Location_count = df_CA.groupby('Location')[['Job Title']].count().reset_index().sort_values(\n",
    "    'Job Title', ascending=False).reset_index(drop=True)"
   ]
  },
  {
   "cell_type": "code",
   "execution_count": 24,
   "metadata": {},
   "outputs": [
    {
     "data": {
      "text/html": [
       "<div>\n",
       "<style scoped>\n",
       "    .dataframe tbody tr th:only-of-type {\n",
       "        vertical-align: middle;\n",
       "    }\n",
       "\n",
       "    .dataframe tbody tr th {\n",
       "        vertical-align: top;\n",
       "    }\n",
       "\n",
       "    .dataframe thead th {\n",
       "        text-align: right;\n",
       "    }\n",
       "</style>\n",
       "<table border=\"1\" class=\"dataframe\">\n",
       "  <thead>\n",
       "    <tr style=\"text-align: right;\">\n",
       "      <th></th>\n",
       "      <th>Location</th>\n",
       "      <th>Job Title</th>\n",
       "    </tr>\n",
       "  </thead>\n",
       "  <tbody>\n",
       "    <tr>\n",
       "      <th>0</th>\n",
       "      <td>San Francisco, CA</td>\n",
       "      <td>119</td>\n",
       "    </tr>\n",
       "    <tr>\n",
       "      <th>1</th>\n",
       "      <td>Los Angeles, CA</td>\n",
       "      <td>80</td>\n",
       "    </tr>\n",
       "    <tr>\n",
       "      <th>2</th>\n",
       "      <td>San Diego, CA</td>\n",
       "      <td>62</td>\n",
       "    </tr>\n",
       "    <tr>\n",
       "      <th>3</th>\n",
       "      <td>San Jose, CA</td>\n",
       "      <td>38</td>\n",
       "    </tr>\n",
       "    <tr>\n",
       "      <th>4</th>\n",
       "      <td>Santa Clara, CA</td>\n",
       "      <td>22</td>\n",
       "    </tr>\n",
       "    <tr>\n",
       "      <th>...</th>\n",
       "      <td>...</td>\n",
       "      <td>...</td>\n",
       "    </tr>\n",
       "    <tr>\n",
       "      <th>69</th>\n",
       "      <td>Monterey Park, CA</td>\n",
       "      <td>1</td>\n",
       "    </tr>\n",
       "    <tr>\n",
       "      <th>70</th>\n",
       "      <td>National City, CA</td>\n",
       "      <td>1</td>\n",
       "    </tr>\n",
       "    <tr>\n",
       "      <th>71</th>\n",
       "      <td>Novato, CA</td>\n",
       "      <td>1</td>\n",
       "    </tr>\n",
       "    <tr>\n",
       "      <th>72</th>\n",
       "      <td>Panorama City, CA</td>\n",
       "      <td>1</td>\n",
       "    </tr>\n",
       "    <tr>\n",
       "      <th>73</th>\n",
       "      <td>Millbrae, CA</td>\n",
       "      <td>1</td>\n",
       "    </tr>\n",
       "  </tbody>\n",
       "</table>\n",
       "<p>74 rows × 2 columns</p>\n",
       "</div>"
      ],
      "text/plain": [
       "             Location  Job Title\n",
       "0   San Francisco, CA        119\n",
       "1     Los Angeles, CA         80\n",
       "2       San Diego, CA         62\n",
       "3        San Jose, CA         38\n",
       "4     Santa Clara, CA         22\n",
       "..                ...        ...\n",
       "69  Monterey Park, CA          1\n",
       "70  National City, CA          1\n",
       "71         Novato, CA          1\n",
       "72  Panorama City, CA          1\n",
       "73       Millbrae, CA          1\n",
       "\n",
       "[74 rows x 2 columns]"
      ]
     },
     "execution_count": 24,
     "metadata": {},
     "output_type": "execute_result"
    }
   ],
   "source": [
    "Location_count"
   ]
  },
  {
   "cell_type": "code",
   "execution_count": 25,
   "metadata": {},
   "outputs": [
    {
     "data": {
      "image/png": "[encoded data removed]",
      "text/plain": [
       "<Figure size 864x576 with 1 Axes>"
      ]
     },
     "metadata": {
      "needs_background": "light"
     },
     "output_type": "display_data"
    }
   ],
   "source": [
    "x = Location_count['Location'].head(20)\n",
    "y = Location_count['Job Title'].head(20)\n",
    "fig, ax = plt.subplots(figsize =(12, 8))   \n",
    "ax.bar(x, y) \n",
    "ax.grid(b = True, color ='grey', \n",
    "        linestyle ='-.', linewidth = 0.5, \n",
    "        alpha = 0.2) \n",
    "plt.xticks(rotation=90)\n",
    "plt.xlabel(\"Location\") \n",
    "plt.ylabel(\"Number of Open Position\") \n",
    "plt.title(\"Top 20 Data Analyst Hiring Locations\") \n",
    "plt.show() \n",
    "fig.savefig('hiring.png', dpi=fig.dpi)"
   ]
  },
  {
   "cell_type": "code",
   "execution_count": null,
   "metadata": {},
   "outputs": [],
   "source": []
  }
 ],
 "metadata": {
  "kernelspec": {
   "display_name": "Python 3",
   "language": "python",
   "name": "python3"
  },
  "language_info": {
   "codemirror_mode": {
    "name": "ipython",
    "version": 3
   },
   "file_extension": ".py",
   "mimetype": "text/x-python",
   "name": "python",
   "nbconvert_exporter": "python",
   "pygments_lexer": "ipython3",
   "version": "3.6.10"
  }
 },
 "nbformat": 4,
 "nbformat_minor": 4
}
